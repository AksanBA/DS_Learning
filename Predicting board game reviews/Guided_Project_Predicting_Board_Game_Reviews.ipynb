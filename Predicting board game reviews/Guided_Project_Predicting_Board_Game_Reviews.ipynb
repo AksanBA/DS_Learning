{
 "cells": [
  {
   "cell_type": "code",
   "execution_count": 2,
   "metadata": {
    "collapsed": false
   },
   "outputs": [
    {
     "name": "stdout",
     "output_type": "stream",
     "text": [
      "       id       type                                       name  \\\n",
      "0   12333  boardgame                          Twilight Struggle   \n",
      "1  120677  boardgame                              Terra Mystica   \n",
      "2  102794  boardgame                  Caverna: The Cave Farmers   \n",
      "3   25613  boardgame  Through the Ages: A Story of Civilization   \n",
      "4    3076  boardgame                                Puerto Rico   \n",
      "\n",
      "   yearpublished  minplayers  maxplayers  playingtime  minplaytime  \\\n",
      "0         2005.0         2.0         2.0        180.0        180.0   \n",
      "1         2012.0         2.0         5.0        150.0         60.0   \n",
      "2         2013.0         1.0         7.0        210.0         30.0   \n",
      "3         2006.0         2.0         4.0        240.0        240.0   \n",
      "4         2002.0         2.0         5.0        150.0         90.0   \n",
      "\n",
      "   maxplaytime  minage  users_rated  average_rating  bayes_average_rating  \\\n",
      "0        180.0    13.0        20113         8.33774               8.22186   \n",
      "1        150.0    12.0        14383         8.28798               8.14232   \n",
      "2        210.0    12.0         9262         8.28994               8.06886   \n",
      "3        240.0    12.0        13294         8.20407               8.05804   \n",
      "4        150.0    12.0        39883         8.14261               8.04524   \n",
      "\n",
      "   total_owners  total_traders  total_wanters  total_wishers  total_comments  \\\n",
      "0         26647            372           1219           5865            5347   \n",
      "1         16519            132           1586           6277            2526   \n",
      "2         12230             99           1476           5600            1700   \n",
      "3         14343            362           1084           5075            3378   \n",
      "4         44362            795            861           5414            9173   \n",
      "\n",
      "   total_weights  average_weight  \n",
      "0           2562          3.4785  \n",
      "1           1423          3.8939  \n",
      "2            777          3.7761  \n",
      "3           1642          4.1590  \n",
      "4           5213          3.2943  \n"
     ]
    }
   ],
   "source": [
    "import pandas as pd\n",
    "board_games=pd.read_csv('board_games.csv')\n",
    "\n",
    "print(board_games.head())"
   ]
  },
  {
   "cell_type": "code",
   "execution_count": 3,
   "metadata": {
    "collapsed": false
   },
   "outputs": [],
   "source": [
    "board_games=board_games.dropna(axis=0)\n",
    "board_games=board_games[board_games['users_rated']!=0]"
   ]
  },
  {
   "cell_type": "code",
   "execution_count": 4,
   "metadata": {
    "collapsed": false
   },
   "outputs": [
    {
     "data": {
      "image/png": "[encoded data removed]",
      "text/plain": [
       "<matplotlib.figure.Figure at 0x7fc081ada8d0>"
      ]
     },
     "metadata": {},
     "output_type": "display_data"
    },
    {
     "name": "stdout",
     "output_type": "stream",
     "text": [
      "1.57881605958\n",
      "6.01611284933\n"
     ]
    }
   ],
   "source": [
    "import matplotlib.pyplot as plt\n",
    "import numpy as np\n",
    "%matplotlib inline\n",
    "\n",
    "plt.hist(board_games['average_rating'])\n",
    "plt.show()\n",
    "print(np.std(board_games['average_rating']))\n",
    "print(np.mean(board_games['average_rating']))"
   ]
  },
  {
   "cell_type": "markdown",
   "metadata": {},
   "source": [
    "The data is continuous so we would use something like MSE or RMSE to get an idea of the error after using a continuous predictor"
   ]
  },
  {
   "cell_type": "code",
   "execution_count": 9,
   "metadata": {
    "collapsed": false
   },
   "outputs": [],
   "source": [
    "from sklearn.cluster import KMeans\n",
    "\n",
    "clus = KMeans(n_clusters=5)\n",
    "cols = list(board_games.columns)\n",
    "cols.remove(\"name\")\n",
    "cols.remove(\"id\")\n",
    "cols.remove(\"type\")\n",
    "numeric_columns = board_games[cols]\n",
    "\n",
    "clus.fit(numeric_columns)\n",
    "\n",
    "labels=clus.labels_"
   ]
  },
  {
   "cell_type": "code",
   "execution_count": 10,
   "metadata": {
    "collapsed": false
   },
   "outputs": [
    {
     "data": {
      "image/png": "[encoded data removed]",
      "text/plain": [
       "<matplotlib.figure.Figure at 0x7fc081ada7f0>"
      ]
     },
     "metadata": {},
     "output_type": "display_data"
    }
   ],
   "source": [
    "game_mean=numeric_columns.apply(np.mean,axis=1)\n",
    "game_std=numeric_columns.apply(np.std,axis=1)\n",
    "\n",
    "plt.scatter(x=game_mean,y=game_std,c=labels)\n",
    "plt.show()"
   ]
  },
  {
   "cell_type": "markdown",
   "metadata": {},
   "source": [
    "There are a few games with a lot of players. Games with a similar level of popularity do get assigned to the same cluster."
   ]
  },
  {
   "cell_type": "code",
   "execution_count": 13,
   "metadata": {
    "collapsed": false
   },
   "outputs": [
    {
     "name": "stdout",
     "output_type": "stream",
     "text": [
      "yearpublished           0.108461\n",
      "minplayers             -0.032701\n",
      "maxplayers             -0.008335\n",
      "playingtime             0.048994\n",
      "minplaytime             0.043985\n",
      "maxplaytime             0.048994\n",
      "minage                  0.210049\n",
      "users_rated             0.112564\n",
      "average_rating          1.000000\n",
      "bayes_average_rating    0.231563\n",
      "total_owners            0.137478\n",
      "total_traders           0.119452\n",
      "total_wanters           0.196566\n",
      "total_wishers           0.171375\n",
      "total_comments          0.123714\n",
      "total_weights           0.109691\n",
      "average_weight          0.351081\n",
      "Name: average_rating, dtype: float64\n"
     ]
    }
   ],
   "source": [
    "correlations=numeric_columns.corr()\n",
    "\n",
    "print(correlations['average_rating'])"
   ]
  },
  {
   "cell_type": "code",
   "execution_count": 20,
   "metadata": {
    "collapsed": false
   },
   "outputs": [
    {
     "name": "stdout",
     "output_type": "stream",
     "text": [
      "2.09339697583\n"
     ]
    }
   ],
   "source": [
    "from sklearn.linear_model import LinearRegression\n",
    "\n",
    "reg=LinearRegression()\n",
    "\n",
    "reg.fit(numeric_columns[cols],numeric_columns['average_rating'])\n",
    "predictions=reg.predict(numeric_columns[cols])\n",
    "\n",
    "from sklearn.metrics import mean_squared_error\n",
    "\n",
    "mse=mean_squared_error(numeric_columns['average_rating'],predictions)\n",
    "print(mse)"
   ]
  },
  {
   "cell_type": "code",
   "execution_count": null,
   "metadata": {
    "collapsed": true
   },
   "outputs": [],
   "source": []
  }
 ],
 "metadata": {
  "kernelspec": {
   "display_name": "Python 3",
   "language": "python",
   "name": "python3"
  },
  "language_info": {
   "codemirror_mode": {
    "name": "ipython",
    "version": 3
   },
   "file_extension": ".py",
   "mimetype": "text/x-python",
   "name": "python",
   "nbconvert_exporter": "python",
   "pygments_lexer": "ipython3",
   "version": "3.5.1"
  }
 },
 "nbformat": 4,
 "nbformat_minor": 0
}
